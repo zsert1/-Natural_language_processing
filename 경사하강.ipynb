{
  "nbformat": 4,
  "nbformat_minor": 0,
  "metadata": {
    "colab": {
      "provenance": [],
      "toc_visible": true,
      "authorship_tag": "ABX9TyMiDjtuhqlKuNDDEVm8w/4W",
      "include_colab_link": true
    },
    "kernelspec": {
      "name": "python3",
      "display_name": "Python 3"
    },
    "language_info": {
      "name": "python"
    }
  },
  "cells": [
    {
      "cell_type": "markdown",
      "metadata": {
        "id": "view-in-github",
        "colab_type": "text"
      },
      "source": [
        "<a href=\"https://colab.research.google.com/github/zsert1/-Natural_language_processing/blob/main/%EA%B2%BD%EC%82%AC%ED%95%98%EA%B0%95.ipynb\" target=\"_parent\"><img src=\"https://colab.research.google.com/assets/colab-badge.svg\" alt=\"Open In Colab\"/></a>"
      ]
    },
    {
      "cell_type": "markdown",
      "source": [
        "### 1. 선형회귀 구현"
      ],
      "metadata": {
        "id": "V0kD8wT9S85n"
      }
    },
    {
      "cell_type": "code",
      "source": [
        "import torch\n",
        "import torch.nn as nn\n",
        "import torch.nn.functional as F\n",
        "import torch.optim as optiom"
      ],
      "metadata": {
        "id": "RuuBHlQOTJlt"
      },
      "execution_count": 1,
      "outputs": []
    },
    {
      "cell_type": "code",
      "source": [
        "# 파이썬 코드를 재실행하여도 같은 결과 나오도록\n",
        "# 랜덤 시드 1 부여\n",
        "torch.manual_seed(1)"
      ],
      "metadata": {
        "colab": {
          "base_uri": "https://localhost:8080/"
        },
        "id": "LQSIBs5pTchA",
        "outputId": "a9d68878-992b-457a-e028-d937afc745bc"
      },
      "execution_count": 2,
      "outputs": [
        {
          "output_type": "execute_result",
          "data": {
            "text/plain": [
              "<torch._C.Generator at 0x7f2855b99b70>"
            ]
          },
          "metadata": {},
          "execution_count": 2
        }
      ]
    },
    {
      "cell_type": "markdown",
      "source": [
        "훈련 데이터 생성"
      ],
      "metadata": {
        "id": "wq4DpJNmTzIt"
      }
    },
    {
      "cell_type": "code",
      "source": [
        "x_train=torch.FloatTensor([[1],[2],[3]])\n",
        "y_train=torch.FloatTensor([[2],[4],[6]])\n"
      ],
      "metadata": {
        "id": "5BCBwPxxTuGu"
      },
      "execution_count": 3,
      "outputs": []
    },
    {
      "cell_type": "markdown",
      "source": [
        "x_train과 x_train 크기를 확인하기 위해 shape 출력"
      ],
      "metadata": {
        "id": "2sqLPETvUHZ1"
      }
    },
    {
      "cell_type": "code",
      "source": [
        "print(x_train)\n",
        "print(x_train.shape)"
      ],
      "metadata": {
        "colab": {
          "base_uri": "https://localhost:8080/"
        },
        "id": "_CZbD2MyUD-y",
        "outputId": "bb6fc58a-7e1c-4a53-dbac-e82abe5ecd9c"
      },
      "execution_count": 5,
      "outputs": [
        {
          "output_type": "stream",
          "name": "stdout",
          "text": [
            "tensor([[1.],\n",
            "        [2.],\n",
            "        [3.]])\n",
            "torch.Size([3, 1])\n"
          ]
        }
      ]
    },
    {
      "cell_type": "markdown",
      "source": [
        "shape은 행렬로 보면 되고 3*1 임을 알 수 있다"
      ],
      "metadata": {
        "id": "hfVYRPecUgFq"
      }
    },
    {
      "cell_type": "code",
      "source": [
        "print(y_train)\n",
        "print(y_train.shape)"
      ],
      "metadata": {
        "colab": {
          "base_uri": "https://localhost:8080/"
        },
        "id": "UxzlxsgEUZwR",
        "outputId": "19527d1d-95b4-4f37-d0a7-11456929f8d9"
      },
      "execution_count": 6,
      "outputs": [
        {
          "output_type": "stream",
          "name": "stdout",
          "text": [
            "tensor([[2.],\n",
            "        [4.],\n",
            "        [6.]])\n",
            "torch.Size([3, 1])\n"
          ]
        }
      ]
    },
    {
      "cell_type": "markdown",
      "source": [
        "선형회귀 학습이란 학습데이터와 가장 잘 맞는 직선을 찾는 것\n",
        "직선을 정의하는 것은 w,b이며 가장 잘 맞는 w(가중치),b(편향도)를 찾는 것이 목표이다"
      ],
      "metadata": {
        "id": "9L9_6Bl5Uvoq"
      }
    },
    {
      "cell_type": "code",
      "source": [
        "# 가중치 W를 0으로 두어 초기화 후 학습을 통해 값이 변경되는 변수임을 명시\n",
        "W=torch.zeros(1,requires_grad=True)\n",
        "print(W)"
      ],
      "metadata": {
        "colab": {
          "base_uri": "https://localhost:8080/"
        },
        "id": "WQrtxpC3Ursb",
        "outputId": "43abf6c0-3e20-4af2-9f7c-26be4078c775"
      },
      "execution_count": 7,
      "outputs": [
        {
          "output_type": "stream",
          "name": "stdout",
          "text": [
            "tensor([0.], requires_grad=True)\n"
          ]
        }
      ]
    },
    {
      "cell_type": "markdown",
      "source": [
        "requires_grad= True 라는 것은 학습을 통하여 값이 계속 변경되는 변수를 의미"
      ],
      "metadata": {
        "id": "QuKoMx9XVRZQ"
      }
    },
    {
      "cell_type": "code",
      "source": [
        "b=torch.zeros(1,requires_grad=True)\n",
        "print(b)"
      ],
      "metadata": {
        "colab": {
          "base_uri": "https://localhost:8080/"
        },
        "id": "prQuofkLVNWw",
        "outputId": "1b251641-fb1a-4689-c634-b86996c74e3f"
      },
      "execution_count": 8,
      "outputs": [
        {
          "output_type": "stream",
          "name": "stdout",
          "text": [
            "tensor([0.], requires_grad=True)\n"
          ]
        }
      ]
    },
    {
      "cell_type": "markdown",
      "source": [
        "현재 W,b는 0이므로 직선의 방정식은 y=0X x+0 이므로 적절한 W,b의 값이 아니다"
      ],
      "metadata": {
        "id": "APSiQGkcVmyR"
      }
    },
    {
      "cell_type": "code",
      "source": [
        "hypothesis=x_train*W+b"
      ],
      "metadata": {
        "id": "QffAOt2GVldy"
      },
      "execution_count": 9,
      "outputs": []
    },
    {
      "cell_type": "markdown",
      "source": [
        "파이토치는 코드상 선형회귀의 비용 함수에 해당되는 평군 제곱 오차를 계산한다."
      ],
      "metadata": {
        "id": "jlewgpa-WAyp"
      }
    },
    {
      "cell_type": "code",
      "source": [
        "cost=torch.mean((hypothesis-y_train)**2)\n",
        "print(cost)"
      ],
      "metadata": {
        "colab": {
          "base_uri": "https://localhost:8080/"
        },
        "id": "sUUloh2rV-zB",
        "outputId": "cccfb740-04b9-4fce-de08-371ed6b88a1f"
      },
      "execution_count": 10,
      "outputs": [
        {
          "output_type": "stream",
          "name": "stdout",
          "text": [
            "tensor(18.6667, grad_fn=<MeanBackward0>)\n"
          ]
        }
      ]
    },
    {
      "cell_type": "markdown",
      "source": [
        "경사하강법을 구현하며 **SGD**는 경사하강법의 일종이며 Ir은 학습률을 의미한다.\n",
        "학습 대상인 W,b가 SGD의 입력된다."
      ],
      "metadata": {
        "id": "Zq_TLg7vWaFt"
      }
    },
    {
      "cell_type": "code",
      "source": [
        "optimizer=optiom.SGD([W,b],lr=0.01)"
      ],
      "metadata": {
        "id": "M_hHU8XVWT0-"
      },
      "execution_count": 11,
      "outputs": []
    },
    {
      "cell_type": "markdown",
      "source": [
        "optimizer.zero_grad()를 실행하여 미분통해 얻은 기울기 0으로 초기화.\n",
        "=> 가중치 편향에 대한 새로운 기울기 구하기 위하여  \n",
        "cost.backward()를 통하여 가중치와 편향에 대한 기울기 계산 그후 step()를 통하여 인수로 들어간 W,b에서 리턴되는 변수들의 기울기에 학습률 0.01씩 곱하여 빼줌으로서 업데이트"
      ],
      "metadata": {
        "id": "WbZHU7TaW7wp"
      }
    },
    {
      "cell_type": "code",
      "source": [
        "optimizer.zero_grad()\n",
        "# 비용함수 미분하여 기울기 계산\n",
        "cost.backward()\n",
        "# W,b업데이트\n",
        "optimizer.step()"
      ],
      "metadata": {
        "id": "yB_FCGZwW58m"
      },
      "execution_count": 12,
      "outputs": []
    },
    {
      "cell_type": "markdown",
      "source": [
        "훈련과정을 통해 W와b는 훈련 데이터와 잘 맞는 직선을 표현하기 위한 적절한 값으로 변화해 간다."
      ],
      "metadata": {
        "id": "w_Pl-4tEX0pT"
      }
    },
    {
      "cell_type": "code",
      "source": [
        "np_eoichs=1999\n",
        "for eoich in range(np_eoichs+1):\n",
        "  hypothesis=x_train*W+b\n",
        "  cost=torch.mean((hypothesis-y_train)**2)\n",
        "  # cost로 H(x)계산\n",
        "  optimizer.zero_grad()\n",
        "  cost.backward()\n",
        "  optimizer.step()\n",
        "\n",
        "  if eoich%100 == 0:\n",
        "    print('Epoch{:4d}/{} W:{:.3f},b:{:.3f} Cost:{:.6f}'.format(eoich,np_eoichs,W.item(),b.item(),cost.item()\n",
        "    ))"
      ],
      "metadata": {
        "colab": {
          "base_uri": "https://localhost:8080/"
        },
        "id": "nz89mKFPXtGp",
        "outputId": "fd8bd75d-46e7-4b16-cd23-0976ff94f9fb"
      },
      "execution_count": 13,
      "outputs": [
        {
          "output_type": "stream",
          "name": "stdout",
          "text": [
            "Epoch   0/1999 W:0.353,b:0.151 Cost:14.770963\n",
            "Epoch 100/1999 W:1.746,b:0.577 Cost:0.047939\n",
            "Epoch 200/1999 W:1.801,b:0.453 Cost:0.029624\n",
            "Epoch 300/1999 W:1.843,b:0.356 Cost:0.018306\n",
            "Epoch 400/1999 W:1.877,b:0.280 Cost:0.011312\n",
            "Epoch 500/1999 W:1.903,b:0.220 Cost:0.006990\n",
            "Epoch 600/1999 W:1.924,b:0.173 Cost:0.004319\n",
            "Epoch 700/1999 W:1.940,b:0.136 Cost:0.002669\n",
            "Epoch 800/1999 W:1.953,b:0.107 Cost:0.001649\n",
            "Epoch 900/1999 W:1.963,b:0.084 Cost:0.001019\n",
            "Epoch1000/1999 W:1.971,b:0.066 Cost:0.000630\n",
            "Epoch1100/1999 W:1.977,b:0.052 Cost:0.000389\n",
            "Epoch1200/1999 W:1.982,b:0.041 Cost:0.000240\n",
            "Epoch1300/1999 W:1.986,b:0.032 Cost:0.000149\n",
            "Epoch1400/1999 W:1.989,b:0.025 Cost:0.000092\n",
            "Epoch1500/1999 W:1.991,b:0.020 Cost:0.000057\n",
            "Epoch1600/1999 W:1.993,b:0.016 Cost:0.000035\n",
            "Epoch1700/1999 W:1.995,b:0.012 Cost:0.000022\n",
            "Epoch1800/1999 W:1.996,b:0.010 Cost:0.000013\n",
            "Epoch1900/1999 W:1.997,b:0.008 Cost:0.000008\n"
          ]
        }
      ]
    },
    {
      "cell_type": "markdown",
      "source": [
        "## 2.torch.manual_seed() 하는 이유"
      ],
      "metadata": {
        "id": "3DpkBrA5Zd3B"
      }
    },
    {
      "cell_type": "markdown",
      "source": [
        "torch.manual_seed()를 사용한 프로그램의 결과는 다른 컴퓨터에서 실행시켜도 동일한 결과를 얻는다.\n",
        "torch.manual_seed()가 난수 발생 순서와 값을 동일하게 보장해주기 때문이다."
      ],
      "metadata": {
        "id": "p4I9BS-_Zk3m"
      }
    },
    {
      "cell_type": "markdown",
      "source": [
        "## 3.optimizer.zero_grad() 하는 이유"
      ],
      "metadata": {
        "id": "A6M9KciXZ-_m"
      }
    },
    {
      "cell_type": "markdown",
      "source": [
        "파이토치는 미분을 통해 얻은 기울기를 이전에 계산된 기울기 값에 누적시키는 특징이 있다."
      ],
      "metadata": {
        "id": "WtKi-kXFaHZL"
      }
    },
    {
      "cell_type": "code",
      "source": [],
      "metadata": {
        "id": "HpcRvqMUZGrZ"
      },
      "execution_count": null,
      "outputs": []
    }
  ]
}
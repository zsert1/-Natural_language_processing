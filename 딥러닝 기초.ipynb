{
 "cells": [
  {
   "cell_type": "markdown",
   "source": [
    "### 정수 인코딩(Integer Encoding)\n",
    "\n",
    "- 단어 토큰화 또는 형태소 토큰화를 수행했다면 각 단어에 고유한 정수부여\n",
    "- 중복이 혀용되지 않는 모든 단어 집합 생성\n",
    "- 이를 단어 집합이라 하며 이를 기반으로 문서를 정수로 인코딩"
   ],
   "metadata": {
    "collapsed": false
   },
   "id": "d28c82ea05d40e6f"
  },
  {
   "cell_type": "code",
   "outputs": [],
   "source": [
    "import pandas as pd\n",
    "import numpy as np\n",
    "import matplotlib.pyplot as plt\n",
    "import nltk\n",
    "import torch\n",
    "import urllib.request\n",
    "from tqdm import tqdm\n",
    "from collections import Counter\n",
    "from nltk.tokenize import word_tokenize\n",
    "from sklearn.model_selection import train_test_split"
   ],
   "metadata": {
    "collapsed": false
   },
   "id": "2e9efeae24ed806",
   "execution_count": null
  },
  {
   "cell_type": "code",
   "outputs": [],
   "source": [
    "df=pd.read_csv(\"IMDB Dataset.csv\")"
   ],
   "metadata": {
    "collapsed": false
   },
   "id": "d0f8fbfdbfed1856",
   "execution_count": null
  },
  {
   "cell_type": "code",
   "outputs": [],
   "source": [
    "df"
   ],
   "metadata": {
    "collapsed": false
   },
   "id": "dd03a7d44f06a38c",
   "execution_count": null
  },
  {
   "cell_type": "code",
   "outputs": [],
   "source": [
    "df.info()"
   ],
   "metadata": {
    "collapsed": false
   },
   "id": "3ef9b6a26c4a37f9",
   "execution_count": null
  },
  {
   "cell_type": "code",
   "outputs": [],
   "source": [
    "df['sentiment'].value_counts().plot(kind='bar')"
   ],
   "metadata": {
    "collapsed": false
   },
   "id": "de112dfa2651ccc",
   "execution_count": null
  },
  {
   "cell_type": "markdown",
   "source": [
    "#### 이진 물류같은 경우 레이블을 1,0으로 변경한다"
   ],
   "metadata": {
    "collapsed": false
   },
   "id": "c6a93d9ec0b76575"
  },
  {
   "cell_type": "code",
   "outputs": [],
   "source": [
    "df['sentiment']=df['sentiment'].replace(['negative','positive'],[0, 1])"
   ],
   "metadata": {
    "collapsed": false
   },
   "id": "3cd363ddd6021691",
   "execution_count": null
  },
  {
   "cell_type": "markdown",
   "source": [
    "### 훈련데이터와 테스트 데이터로 분류한다\n",
    "- test_size를 통하여 비율 산정\n",
    "- stratify에 레이블에 해당하는 데이터를 부여하면 훈련 데이터,테스트 데이터를 나눌 때 레이블의 비율을 균일하게 나누어 준다"
   ],
   "metadata": {
    "collapsed": false
   },
   "id": "ff61331223fea42a"
  },
  {
   "cell_type": "code",
   "outputs": [],
   "source": [
    "X_data=df['review']\n",
    "y_data=df['sentiment']\n",
    "X_train,X_test,y_train,y_test=train_test_split(X_data,y_data,test_size=0.5,random_state=0,stratify=y_data)"
   ],
   "metadata": {
    "collapsed": false
   },
   "id": "9ea17a5f522acc9b",
   "execution_count": null
  },
  {
   "cell_type": "markdown",
   "source": [
    "X_train[0]"
   ],
   "metadata": {
    "collapsed": false
   },
   "id": "94a499634582a196"
  },
  {
   "cell_type": "markdown",
   "source": [
    "#### 토큰화 처리"
   ],
   "metadata": {
    "collapsed": false
   },
   "id": "c66620d7ad66c9e2"
  },
  {
   "cell_type": "code",
   "outputs": [],
   "source": [
    "sample=word_tokenize(X_train[0])\n",
    "print(sample)"
   ],
   "metadata": {
    "collapsed": false
   },
   "id": "46b542c8af938051",
   "execution_count": null
  },
  {
   "cell_type": "code",
   "outputs": [],
   "source": [
    "lower_sample=[word.lower() for word in sample] #소문지화 전처리"
   ],
   "metadata": {
    "collapsed": false
   },
   "id": "698273c1e3022e86",
   "execution_count": null
  },
  {
   "cell_type": "markdown",
   "source": [
    "#### 데이터 토큰화"
   ],
   "metadata": {
    "collapsed": false
   },
   "id": "a43e6a031294a7ef"
  },
  {
   "cell_type": "code",
   "outputs": [],
   "source": [
    "def tokenize(sentences):\n",
    "    tokenized_sentences=[]\n",
    "    for sentence in tqdm(sentences):\n",
    "        tokenized_sent=word_tokenize(sentence)\n",
    "        tokenized_sent=[word.lower() for word in tokenized_sent]\n",
    "        tokenized_sentences.append(tokenized_sent)\n",
    "    return tokenized_sentences"
   ],
   "metadata": {
    "collapsed": false
   },
   "id": "293e9781d0231cf1",
   "execution_count": null
  },
  {
   "cell_type": "code",
   "outputs": [],
   "source": [
    "tokenized_X_train=tokenize(X_train)\n",
    "tokenized_X_test=tokenize(X_test)\n"
   ],
   "metadata": {
    "collapsed": false
   },
   "id": "46801373efb3acba",
   "execution_count": null
  },
  {
   "cell_type": "code",
   "outputs": [],
   "source": [
    "for sent in tokenized_X_train[:2]:\n",
    "    print(sent)"
   ],
   "metadata": {
    "collapsed": false
   },
   "id": "329af8591a6656ab",
   "execution_count": null
  },
  {
   "cell_type": "markdown",
   "source": [
    "#### 정수 인코딩을 위하여 **vocabulary** 를 만들어야한다\n",
    "- 훈련데이터의 모든 단어들을 모은다\n",
    "- 이를 위해 파이썬에 있는 카운터 묘듈사용\n",
    "- 입력으로 들어온 단어들의 빈도수를 체크"
   ],
   "metadata": {
    "collapsed": false
   },
   "id": "7f79fc6eff3bac92"
  },
  {
   "cell_type": "code",
   "outputs": [],
   "source": [
    "word_list=[]\n",
    "for sent in tokenized_X_train:\n",
    "    for word in sent:\n",
    "        word_list.append(word)\n",
    "word_counts=Counter(word_list)\n",
    "print('총 단어수 ',len(word_counts))"
   ],
   "metadata": {
    "collapsed": false
   },
   "id": "d6b2ff944223de4e",
   "execution_count": null
  },
  {
   "cell_type": "code",
   "outputs": [],
   "source": [
    "print(word_counts)"
   ],
   "metadata": {
    "collapsed": false
   },
   "id": "25c0160ba618fd64",
   "execution_count": null
  },
  {
   "cell_type": "code",
   "outputs": [],
   "source": [
    "print('훈련데이터에서 단어 the의 등장횟수:',word_counts['the'])"
   ],
   "metadata": {
    "collapsed": false
   },
   "id": "b00fafb73ce5762c",
   "execution_count": null
  },
  {
   "cell_type": "markdown",
   "source": [
    "- 등장빈도수에 맞추어 정렬"
   ],
   "metadata": {
    "collapsed": false
   },
   "id": "c356b970bc180e60"
  },
  {
   "cell_type": "code",
   "outputs": [],
   "source": [
    "vocab=sorted(word_counts,key=word_counts.get,reverse=True)\n",
    "print('등장 빈도수 상위 10개 단어')\n",
    "print(vocab[0:10])"
   ],
   "metadata": {
    "collapsed": false
   },
   "id": "a593fc9a260a6239",
   "execution_count": null
  },
  {
   "cell_type": "markdown",
   "source": [
    "- vocab 사이즈 축소를 위해 통계적인 정보 활용"
   ],
   "metadata": {
    "collapsed": false
   },
   "id": "e25d7ae9bc38749b"
  },
  {
   "cell_type": "code",
   "outputs": [],
   "source": [
    "threshold = 3\n",
    "total_cnt = len(word_counts) # 등장 빈도수가 threshold보다 작은 단어의 개수를 카운트\n",
    "rare_cnt = 0 # 등장 빈도수가 threshold보다 작은 단어의 개수를 카운트\n",
    "total_freq = 0 # 훈련 데이터의 전체 단어 빈도수 총 합\n",
    "rare_freq = 0 # 등장 빈도수가 threshold보다 작은 단어의 등장 빈도수의 총 합\n",
    "for key,value in word_counts.items():\n",
    "    total_freq=total_freq+value\n",
    "    if(value< threshold):\n",
    "        rare_cnt=rare_cnt+1\n",
    "        rare_freq=rare_freq+value\n",
    "\n",
    "print('단어 집합(vocabulary)의 크기 :',total_cnt)\n",
    "print('등장 빈도가 %s번 이하인 희귀 단어의 수: %s'%(threshold - 1, rare_cnt))\n",
    "print(\"단어 집합에서 희귀 단어의 비율:\", (rare_cnt / total_cnt)*100)\n",
    "print(\"전체 등장 빈도에서 희귀 단어 등장 빈도 비율:\", (rare_freq / total_freq)*100)"
   ],
   "metadata": {
    "collapsed": false
   },
   "id": "ca9b10fa4172c650",
   "execution_count": null
  },
  {
   "cell_type": "code",
   "outputs": [],
   "source": [
    "# 전체 단어 개수 중 빈도 수  1이하인 단어는 제거\n",
    "vocab_size=total_cnt-rare_cnt\n",
    "vocab=vocab[:vocab_size]\n",
    "print('단어 집합의 크기:',len(vocab))"
   ],
   "metadata": {
    "collapsed": false
   },
   "id": "9ce093a55c68047b",
   "execution_count": null
  },
  {
   "cell_type": "code",
   "outputs": [],
   "source": [
    "print(vocab)"
   ],
   "metadata": {
    "collapsed": false
   },
   "id": "d19aa08ae40f96b9",
   "execution_count": null
  },
  {
   "cell_type": "code",
   "outputs": [],
   "source": [
    "word_to_index={}\n",
    "word_to_index['<PAD>']=0\n",
    "word_to_index['<UNK>']=1"
   ],
   "metadata": {
    "collapsed": false
   },
   "id": "ca571fc760fb5147",
   "execution_count": null
  },
  {
   "cell_type": "code",
   "outputs": [],
   "source": [
    "for index,word in enumerate(vocab):\n",
    "    word_to_index[word]=index+2"
   ],
   "metadata": {
    "collapsed": false
   },
   "id": "a9c2da4bf20633fc",
   "execution_count": null
  },
  {
   "cell_type": "code",
   "outputs": [],
   "source": [
    "print(word_to_index)"
   ],
   "metadata": {
    "collapsed": false
   },
   "id": "66aa519b33f20878",
   "execution_count": null
  },
  {
   "cell_type": "code",
   "outputs": [],
   "source": [
    "vocab_size = len(word_to_index)\n",
    "print('패딩 토큰과 UNK 토큰을 고려한 단어 집합의 크기 :', vocab_size)"
   ],
   "metadata": {
    "collapsed": false
   },
   "id": "2327fc16bf140e2c",
   "execution_count": null
  },
  {
   "cell_type": "code",
   "outputs": [],
   "source": [
    "print('단어 <PAD>와 맵핑되는 정수 :', word_to_index['<PAD>'])\n",
    "print('단어 <UNK>와 맵핑되는 정수 :', word_to_index['<UNK>'])\n",
    "print('단어 the와 맵핑되는 정수 :', word_to_index['the'])"
   ],
   "metadata": {
    "collapsed": false
   },
   "id": "af450cbb10006817",
   "execution_count": null
  },
  {
   "cell_type": "code",
   "outputs": [],
   "source": [
    "word_to_index['bridesmaid']"
   ],
   "metadata": {
    "collapsed": false
   },
   "id": "2490b6e43701791f",
   "execution_count": null
  },
  {
   "cell_type": "markdown",
   "source": [
    "- UNK 이 있는 이유는 등장빈도수가 2개이하인 것 삭제 했기 때문에 정수로 변환하였기 때문에 key에러가 발생할 수 있다.\n",
    "- 토큰화된 단어들 중 word_to_index에서 단어와 정수가 매핑된 것에서 키에러가 발생할 수 있는데 이러한 경우 UNK토큰으로 매핑한다.\n",
    "-> 'UNK' => 'Unknown' => 모르는 단어가 등장했을 경우 맵핑하는 용도로 사용되는 스페셜 토큰."
   ],
   "metadata": {
    "collapsed": false
   },
   "id": "fad41691d55db632"
  },
  {
   "cell_type": "code",
   "outputs": [],
   "source": [
    "def texts_to_sequences(tokenized_X_data, word_to_index):\n",
    "  encoded_X_data = []\n",
    "  for sent in tokenized_X_data:\n",
    "    index_sequences = []\n",
    "    for word in sent:\n",
    "      try:\n",
    "          index_sequences.append(word_to_index[word])\n",
    "      except KeyError:\n",
    "          index_sequences.append(word_to_index['<UNK>'])\n",
    "    encoded_X_data.append(index_sequences)\n",
    "  return encoded_X_data"
   ],
   "metadata": {
    "collapsed": false
   },
   "id": "a178effade2a72e6",
   "execution_count": null
  },
  {
   "cell_type": "code",
   "outputs": [],
   "source": [
    "print(tokenized_X_train[0])"
   ],
   "metadata": {
    "collapsed": false
   },
   "id": "4b1e71a1723d876d",
   "execution_count": null
  },
  {
   "cell_type": "code",
   "outputs": [],
   "source": [
    "print(tokenized_X_train[1])"
   ],
   "metadata": {
    "collapsed": false
   },
   "id": "4cc0247eab5581c8",
   "execution_count": null
  },
  {
   "cell_type": "code",
   "outputs": [],
   "source": [
    "len(tokenized_X_train[0])"
   ],
   "metadata": {
    "collapsed": false
   },
   "id": "e5cc1405b38f7c07",
   "execution_count": null
  },
  {
   "cell_type": "code",
   "outputs": [],
   "source": [
    "len(tokenized_X_train[1])"
   ],
   "metadata": {
    "collapsed": false
   },
   "id": "9aac041eda28c5e1",
   "execution_count": null
  },
  {
   "cell_type": "code",
   "outputs": [],
   "source": [
    "encoded_X_train = texts_to_sequences(tokenized_X_train, word_to_index)\n",
    "encoded_X_test = texts_to_sequences(tokenized_X_test, word_to_index)"
   ],
   "metadata": {
    "collapsed": false
   },
   "id": "7dc983cf8d8a59e5",
   "execution_count": null
  },
  {
   "cell_type": "code",
   "outputs": [],
   "source": [
    "print(encoded_X_train[0])"
   ],
   "metadata": {
    "collapsed": false
   },
   "id": "ba783d7c1d91ef3d",
   "execution_count": null
  },
  {
   "cell_type": "code",
   "outputs": [],
   "source": [
    "# 상위 샘플 2개 출력\n",
    "for sent in encoded_X_train[:2]:\n",
    "  print(sent)"
   ],
   "metadata": {
    "collapsed": false
   },
   "id": "9b6f5106f59d47b7",
   "execution_count": null
  },
  {
   "cell_type": "code",
   "outputs": [],
   "source": [
    "index_to_word = {}\n",
    "for key, value in word_to_index.items():\n",
    "    index_to_word[value] = key"
   ],
   "metadata": {
    "collapsed": false
   },
   "id": "7cb37c5330cd0311",
   "execution_count": null
  },
  {
   "cell_type": "code",
   "outputs": [],
   "source": [
    "print(word_to_index)\n",
    "print(index_to_word)"
   ],
   "metadata": {
    "collapsed": false
   },
   "id": "8f80815de96edf3d",
   "execution_count": null
  },
  {
   "cell_type": "code",
   "outputs": [],
   "source": [
    "decoded_sample = [index_to_word[word] for word in encoded_X_train[0]]\n",
    "print('기존의 첫번째 샘플 :', tokenized_X_train[0])\n",
    "print('복원된 첫번째 샘플 :', decoded_sample)"
   ],
   "metadata": {
    "collapsed": false
   },
   "id": "619cd9afb7bcff1",
   "execution_count": null
  },
  {
   "cell_type": "code",
   "outputs": [],
   "source": [
    "print('리뷰의 최대 길이 :',max(len(review) for review in encoded_X_train))\n",
    "print('리뷰의 평균 길이 :',sum(map(len, encoded_X_train))/len(encoded_X_train))\n",
    "plt.hist([len(review) for review in encoded_X_train], bins=50)\n",
    "plt.xlabel('length of samples')\n",
    "plt.ylabel('number of samples')\n",
    "plt.show()"
   ],
   "metadata": {
    "collapsed": false
   },
   "id": "b9a59159d680e76",
   "execution_count": null
  },
  {
   "cell_type": "markdown",
   "source": [
    "### 딥러닐 모델이 데이터를 처리하는 묶음 단위에서는 길이가 동일해야 딥러닝 모델이 행렬로 인식할 수 있어 병렬처리를 할 수 있다.\n",
    "- 길이를 똑같게 해주는 작업을 패딩이라고 한다."
   ],
   "metadata": {
    "collapsed": false
   },
   "id": "277462d9a3b7b8f9"
  },
  {
   "cell_type": "code",
   "outputs": [],
   "source": [
    "# 숫자안에 숫자보다 짧은 샘플이 몇개인지 계산해주는 함수\n",
    "def below_threshold_len(max_len, nested_list):\n",
    "  count = 0\n",
    "  for sentence in nested_list:\n",
    "    if(len(sentence) <= max_len):\n",
    "        count = count + 1\n",
    "  print('전체 샘플 중 길이가 %s 이하인 샘플의 비율: %s'%(max_len, (count / len(nested_list))*100))"
   ],
   "metadata": {
    "collapsed": false
   },
   "id": "4b47df3c0f0cd208",
   "execution_count": null
  },
  {
   "cell_type": "code",
   "outputs": [],
   "source": [
    "max_len = 500\n",
    "below_threshold_len(max_len, encoded_X_train)"
   ],
   "metadata": {
    "collapsed": false
   },
   "id": "d32fe0075124d9c1",
   "execution_count": null
  },
  {
   "cell_type": "code",
   "outputs": [],
   "source": [
    "# 최대길이를 입력하면 최대 길이 보다 짧은 것들은 최대길이가 되게 0을 채우고 넘으면 최대길이 만큼되게 뒤를 자른다 \n",
    "def pad_sequences(sentences, max_len):\n",
    "  features = np.zeros((len(sentences), max_len), dtype=int)\n",
    "  for index, sentence in enumerate(sentences):\n",
    "    if len(sentence) != 0:\n",
    "      features[index, :len(sentence)] = np.array(sentence)[:max_len]\n",
    "  return features"
   ],
   "metadata": {
    "collapsed": false
   },
   "id": "2e0c765e04c162ad",
   "execution_count": null
  },
  {
   "cell_type": "code",
   "outputs": [],
   "source": [
    "padded_X_train = pad_sequences(encoded_X_train, max_len=max_len)\n",
    "padded_X_test = pad_sequences(encoded_X_test, max_len=max_len)"
   ],
   "metadata": {
    "collapsed": false
   },
   "id": "caad9bc74e1ce4d4",
   "execution_count": null
  },
  {
   "cell_type": "code",
   "outputs": [],
   "source": [
    "print('훈련 데이터의 크기 :', padded_X_train.shape)\n",
    "print('테스트 데이터의 크기 :', padded_X_test.shape)"
   ],
   "metadata": {
    "collapsed": false
   },
   "id": "a7c9c22882f7e796",
   "execution_count": null
  },
  {
   "cell_type": "code",
   "outputs": [],
   "source": [
    "padded_X_train[:5]"
   ],
   "metadata": {
    "collapsed": false
   },
   "id": "ce708086db843d7f",
   "execution_count": null
  },
  {
   "cell_type": "code",
   "outputs": [],
   "source": [
    "len(padded_X_train[0])"
   ],
   "metadata": {
    "collapsed": false
   },
   "id": "631e281553c2fe3c",
   "execution_count": null
  },
  {
   "cell_type": "code",
   "outputs": [],
   "source": [
    "print(padded_X_train[0])"
   ],
   "metadata": {
    "collapsed": false
   },
   "id": "8443a156147c04b0",
   "execution_count": null
  },
  {
   "cell_type": "code",
   "outputs": [],
   "source": [],
   "metadata": {
    "collapsed": false
   },
   "id": "1e9fed4452c6d2b5"
  }
 ],
 "metadata": {
  "kernelspec": {
   "display_name": "Python 3",
   "language": "python",
   "name": "python3"
  },
  "language_info": {
   "codemirror_mode": {
    "name": "ipython",
    "version": 2
   },
   "file_extension": ".py",
   "mimetype": "text/x-python",
   "name": "python",
   "nbconvert_exporter": "python",
   "pygments_lexer": "ipython2",
   "version": "2.7.6"
  }
 },
 "nbformat": 4,
 "nbformat_minor": 5
}
